{
  "nbformat": 4,
  "nbformat_minor": 0,
  "metadata": {
    "colab": {
      "provenance": [],
      "gpuType": "T4",
      "include_colab_link": true
    },
    "kernelspec": {
      "name": "python3",
      "display_name": "Python 3"
    },
    "language_info": {
      "name": "python"
    },
    "accelerator": "GPU"
  },
  "cells": [
    {
      "cell_type": "markdown",
      "metadata": {
        "id": "view-in-github",
        "colab_type": "text"
      },
      "source": [
        "<a href=\"https://colab.research.google.com/github/Mahsa33/GPT2/blob/main/gpt2.ipynb\" target=\"_parent\"><img src=\"https://colab.research.google.com/assets/colab-badge.svg\" alt=\"Open In Colab\"/></a>"
      ]
    },
    {
      "cell_type": "code",
      "source": [
        "from google.colab import drive\n",
        "drive.mount('/content/drive')"
      ],
      "metadata": {
        "colab": {
          "base_uri": "https://localhost:8080/"
        },
        "id": "iv4URuB2UAuC",
        "outputId": "97599d2f-11f1-4608-9886-357a75a3ee8d"
      },
      "execution_count": 2,
      "outputs": [
        {
          "output_type": "stream",
          "name": "stdout",
          "text": [
            "Mounted at /content/drive\n"
          ]
        }
      ]
    },
    {
      "cell_type": "markdown",
      "source": [
        "## Building a GPT\n",
        "\n",
        "Companion notebook to the [Zero To Hero](https://karpathy.ai/zero-to-hero.html) video on GPT."
      ],
      "metadata": {
        "id": "wJpXpmjEYC_T"
      }
    },
    {
      "cell_type": "code",
      "source": [
        "# read it in to inspect it\n",
        "with open('/content/drive/MyDrive/Colab Notebooks/LLM/Hafeze&khayam.txt', 'r') as f:\n",
        "    text = f.read()"
      ],
      "metadata": {
        "id": "O6medjfRsLD9"
      },
      "execution_count": 3,
      "outputs": []
    },
    {
      "cell_type": "code",
      "source": [
        "print(\"length of dataset in characters: \", len(text))"
      ],
      "metadata": {
        "colab": {
          "base_uri": "https://localhost:8080/"
        },
        "id": "6xWI_VyAsN8F",
        "outputId": "6e1ee15a-3334-4be7-cc1f-d11469119c5c"
      },
      "execution_count": 4,
      "outputs": [
        {
          "output_type": "stream",
          "name": "stdout",
          "text": [
            "length of dataset in characters:  382772\n"
          ]
        }
      ]
    },
    {
      "cell_type": "code",
      "source": [
        "# let's look at the first 1000 characters\n",
        "print(text[:1000])"
      ],
      "metadata": {
        "colab": {
          "base_uri": "https://localhost:8080/"
        },
        "id": "2c5V0FvqseE0",
        "outputId": "a85aa206-c61e-42e3-b31d-0b133eb46532"
      },
      "execution_count": 5,
      "outputs": [
        {
          "output_type": "stream",
          "name": "stdout",
          "text": [
            "فال حافظ\n",
            "الا يا ايها الساقی ادر کاسا و ناولها\n",
            "که عشق آسان نمود اول ولی افتاد مشکل‌ها\n",
            "به بوی نافه‌ای کاخر صبا زان طره بگشايد\n",
            "ز تاب جعد مشکينش چه خون افتاد در دل‌ها\n",
            "مرا در منزل جانان چه امن عيش چون هر دم\n",
            "جرس فرياد می‌دارد که بربنديد محمل‌ها\n",
            "به می سجاده رنگين کن گرت پير مغان گويد\n",
            "که سالک بی‌خبر نبود ز راه و رسم منزل‌ها\n",
            "شب تاريک و بيم موج و گردابی چنين هايل\n",
            "کجا دانند حال ما سبکباران ساحل‌ها\n",
            "همه کارم ز خود کامی به بدنامی کشيد آخر\n",
            "نهان کی ماند آن رازی کز او سازند محفل‌ها\n",
            "حضوری گر همی‌خواهی از او غايب مشو حافظ\n",
            "متی ما تلق من تهوی دع الدنيا و اهملها\n",
            "صلاح کار کجا و من خراب کجا\n",
            "ببين تفاوت ره کز کجاست تا به کجا\n",
            "دلم ز صومعه بگرفت و خرقه سالوس\n",
            "کجاست دير مغان و شراب ناب کجا\n",
            "چه نسبت است به رندی صلاح و تقوا را\n",
            "سماع وعظ کجا نغمه رباب کجا\n",
            "ز روی دوست دل دشمنان چه دريابد\n",
            "چراغ مرده کجا شمع آفتاب کجا\n",
            "چو کحل بينش ما خاک آستان شماست\n",
            "کجا رويم بفرما از اين جناب کجا\n",
            "مبين به سيب زنخدان که چاه در راه است\n",
            "کجا همی‌روی ای دل بدين شتاب کجا\n",
            "بشد که ياد خوشش باد روزگار وصال\n",
            "خود آن کرشمه کجا رفت و آن عتاب کجا\n",
            "قرار و خواب ز\n"
          ]
        }
      ]
    },
    {
      "cell_type": "code",
      "source": [
        "# here are all the unique characters that occur in this text\n",
        "chars = sorted(list(set(text)))\n",
        "vocab_size = len(chars)\n",
        "print(''.join(chars))\n",
        "print(vocab_size)"
      ],
      "metadata": {
        "colab": {
          "base_uri": "https://localhost:8080/"
        },
        "id": "0e-Rbyr8sfM8",
        "outputId": "04263886-3a0c-4d69-9e61-79c85ddb4ffb"
      },
      "execution_count": 6,
      "outputs": [
        {
          "output_type": "stream",
          "name": "stdout",
          "text": [
            "\n",
            " !\"()-.012345678:=EYeimpqru«»Ĥ،؛؟ءآأؤابةتثجحخدذرزسشصضطظعغـفقكلمنهويَُِّْپچژکگی‌…ﭘﭙﭻﭼﭽﮋﮓﮔﮕﱠﺄﺆﺋﺌﺎﺐﺑﺒﺔﺖﺗﺘﺚﺛﺜﺞﺟﺠﺢﺣﺤﺦﺧﺨﺪﺬﺮﺰﺲﺳﺴﺶﺷﺸﺺﺻﺼﺾﺿﻀﻂﻃﻄﻆﻇﻈﻊﻋﻌﻎﻏﻐﻒﻓﻔﻖﻗﻘﻚﻛﻜﻞﻟﻠﻢﻣﻤﻦﻧﻨﻪﻫﻬﻮﻲﻳﻴﻷﻻﻼ\n",
            "172\n"
          ]
        }
      ]
    },
    {
      "cell_type": "code",
      "source": [
        "# create a mapping from characters to integers\n",
        "stoi = { ch:i for i,ch in enumerate(chars) }\n",
        "itos = { i:ch for i,ch in enumerate(chars) }\n",
        "encode = lambda s: [stoi[c] for c in s] # encoder: take a string, output a list of integers\n",
        "decode = lambda l: ''.join([itos[i] for i in l]) # decoder: take a list of integers, output a string\n",
        "\n",
        "print(encode(\"الا يا ايها الساقی ادر کاسا و ناولها\"))\n",
        "print(decode(encode(\"الا يا ايها الساقی ادر کاسا و ناولها\")))"
      ],
      "metadata": {
        "colab": {
          "base_uri": "https://localhost:8080/"
        },
        "id": "Yw1LKNCgwjj1",
        "outputId": "8edae5c2-9655-4ed1-ef82-9939675238c7"
      },
      "execution_count": 9,
      "outputs": [
        {
          "output_type": "stream",
          "name": "stdout",
          "text": [
            "[38, 62, 38, 1, 67, 38, 1, 38, 67, 65, 38, 1, 38, 62, 50, 38, 60, 78, 1, 38, 46, 48, 1, 76, 38, 50, 38, 1, 66, 1, 64, 38, 66, 62, 65, 38]\n",
            "الا يا ايها الساقی ادر کاسا و ناولها\n"
          ]
        }
      ]
    },
    {
      "cell_type": "code",
      "source": [
        "# let's now encode the entire text dataset and store it into a torch.Tensor\n",
        "import torch # we use PyTorch: https://pytorch.org\n",
        "data = torch.tensor(encode(text), dtype=torch.long)\n",
        "print(data.shape, data.dtype)\n",
        "print(data[:1000]) # the 1000 characters we looked at earier will to the GPT look like this"
      ],
      "metadata": {
        "colab": {
          "base_uri": "https://localhost:8080/"
        },
        "id": "YJb0OXPwzvqg",
        "outputId": "9ad7a6e9-26d4-4fde-a5af-feebe0a11dc6"
      },
      "execution_count": 10,
      "outputs": [
        {
          "output_type": "stream",
          "name": "stdout",
          "text": [
            "torch.Size([382772]) torch.int64\n",
            "tensor([59, 38, 62,  1, 44, 38, 59, 55,  0, 38, 62, 38,  1, 67, 38,  1, 38, 67,\n",
            "        65, 38,  1, 38, 62, 50, 38, 60, 78,  1, 38, 46, 48,  1, 76, 38, 50, 38,\n",
            "         1, 66,  1, 64, 38, 66, 62, 65, 38,  0, 76, 65,  1, 56, 51, 60,  1, 35,\n",
            "        50, 38, 64,  1, 64, 63, 66, 46,  1, 38, 66, 62,  1, 66, 62, 78,  1, 38,\n",
            "        59, 41, 38, 46,  1, 63, 51, 76, 62, 79, 65, 38,  0, 39, 65,  1, 39, 66,\n",
            "        78,  1, 64, 38, 59, 65, 79, 38, 78,  1, 76, 38, 45, 48,  1, 52, 39, 38,\n",
            "         1, 49, 38, 64,  1, 54, 48, 65,  1, 39, 77, 51, 38, 67, 46,  0, 49,  1,\n",
            "        41, 38, 39,  1, 43, 56, 46,  1, 63, 51, 76, 67, 64, 51,  1, 74, 65,  1,\n",
            "        45, 66, 64,  1, 38, 59, 41, 38, 46,  1, 46, 48,  1, 46, 62, 79, 65, 38,\n",
            "         0, 63, 48, 38,  1, 46, 48,  1, 63, 64, 49, 62,  1, 43, 38, 64, 38, 64,\n",
            "         1, 74, 65,  1, 38, 63, 64,  1, 56, 67, 51,  1, 74, 66, 64,  1, 65, 48,\n",
            "         1, 46, 63,  0, 43, 48, 50,  1, 59, 48, 67, 38, 46,  1, 63, 78, 79, 46,\n",
            "        38, 48, 46,  1, 76, 65,  1, 39, 48, 39, 64, 46, 67, 46,  1, 63, 44, 63,\n",
            "        62, 79, 65, 38,  0, 39, 65,  1, 63, 78,  1, 50, 43, 38, 46, 65,  1, 48,\n",
            "        64, 77, 67, 64,  1, 76, 64,  1, 77, 48, 41,  1, 73, 67, 48,  1, 63, 57,\n",
            "        38, 64,  1, 77, 66, 67, 46,  0, 76, 65,  1, 50, 38, 62, 76,  1, 39, 78,\n",
            "        79, 45, 39, 48,  1, 64, 39, 66, 46,  1, 49,  1, 48, 38, 65,  1, 66,  1,\n",
            "        48, 50, 63,  1, 63, 64, 49, 62, 79, 65, 38,  0, 51, 39,  1, 41, 38, 48,\n",
            "        67, 76,  1, 66,  1, 39, 67, 63,  1, 63, 66, 43,  1, 66,  1, 77, 48, 46,\n",
            "        38, 39, 78,  1, 74, 64, 67, 64,  1, 65, 38, 67, 62,  0, 76, 43, 38,  1,\n",
            "        46, 38, 64, 64, 46,  1, 44, 38, 62,  1, 63, 38,  1, 50, 39, 76, 39, 38,\n",
            "        48, 38, 64,  1, 50, 38, 44, 62, 79, 65, 38,  0, 65, 63, 65,  1, 76, 38,\n",
            "        48, 63,  1, 49,  1, 45, 66, 46,  1, 76, 38, 63, 78,  1, 39, 65,  1, 39,\n",
            "        46, 64, 38, 63, 78,  1, 76, 51, 67, 46,  1, 35, 45, 48,  0, 64, 65, 38,\n",
            "        64,  1, 76, 78,  1, 63, 38, 64, 46,  1, 35, 64,  1, 48, 38, 49, 78,  1,\n",
            "        76, 49,  1, 38, 66,  1, 50, 38, 49, 64, 46,  1, 63, 44, 59, 62, 79, 65,\n",
            "        38,  0, 44, 53, 66, 48, 78,  1, 77, 48,  1, 65, 63, 78, 79, 45, 66, 38,\n",
            "        65, 78,  1, 38, 49,  1, 38, 66,  1, 57, 38, 67, 39,  1, 63, 51, 66,  1,\n",
            "        44, 38, 59, 55,  0, 63, 41, 78,  1, 63, 38,  1, 41, 62, 60,  1, 63, 64,\n",
            "         1, 41, 65, 66, 78,  1, 46, 56,  1, 38, 62, 46, 64, 67, 38,  1, 66,  1,\n",
            "        38, 65, 63, 62, 65, 38,  0, 52, 62, 38, 44,  1, 76, 38, 48,  1, 76, 43,\n",
            "        38,  1, 66,  1, 63, 64,  1, 45, 48, 38, 39,  1, 76, 43, 38,  0, 39, 39,\n",
            "        67, 64,  1, 41, 59, 38, 66, 41,  1, 48, 65,  1, 76, 49,  1, 76, 43, 38,\n",
            "        50, 41,  1, 41, 38,  1, 39, 65,  1, 76, 43, 38,  0, 46, 62, 63,  1, 49,\n",
            "         1, 52, 66, 63, 56, 65,  1, 39, 77, 48, 59, 41,  1, 66,  1, 45, 48, 60,\n",
            "        65,  1, 50, 38, 62, 66, 50,  0, 76, 43, 38, 50, 41,  1, 46, 67, 48,  1,\n",
            "        63, 57, 38, 64,  1, 66,  1, 51, 48, 38, 39,  1, 64, 38, 39,  1, 76, 43,\n",
            "        38,  0, 74, 65,  1, 64, 50, 39, 41,  1, 38, 50, 41,  1, 39, 65,  1, 48,\n",
            "        64, 46, 78,  1, 52, 62, 38, 44,  1, 66,  1, 41, 60, 66, 38,  1, 48, 38,\n",
            "         0, 50, 63, 38, 56,  1, 66, 56, 55,  1, 76, 43, 38,  1, 64, 57, 63, 65,\n",
            "         1, 48, 39, 38, 39,  1, 76, 43, 38,  0, 49,  1, 48, 66, 78,  1, 46, 66,\n",
            "        50, 41,  1, 46, 62,  1, 46, 51, 63, 64, 38, 64,  1, 74, 65,  1, 46, 48,\n",
            "        67, 38, 39, 46,  0, 74, 48, 38, 57,  1, 63, 48, 46, 65,  1, 76, 43, 38,\n",
            "         1, 51, 63, 56,  1, 35, 59, 41, 38, 39,  1, 76, 43, 38,  0, 74, 66,  1,\n",
            "        76, 44, 62,  1, 39, 67, 64, 51,  1, 63, 38,  1, 45, 38, 76,  1, 35, 50,\n",
            "        41, 38, 64,  1, 51, 63, 38, 50, 41,  0, 76, 43, 38,  1, 48, 66, 67, 63,\n",
            "         1, 39, 59, 48, 63, 38,  1, 38, 49,  1, 38, 67, 64,  1, 43, 64, 38, 39,\n",
            "         1, 76, 43, 38,  0, 63, 39, 67, 64,  1, 39, 65,  1, 50, 67, 39,  1, 49,\n",
            "        64, 45, 46, 38, 64,  1, 76, 65,  1, 74, 38, 65,  1, 46, 48,  1, 48, 38,\n",
            "        65,  1, 38, 50, 41,  0, 76, 43, 38,  1, 65, 63, 78, 79, 48, 66, 78,  1,\n",
            "        38, 78,  1, 46, 62,  1, 39, 46, 67, 64,  1, 51, 41, 38, 39,  1, 76, 43,\n",
            "        38,  0, 39, 51, 46,  1, 76, 65,  1, 67, 38, 46,  1, 45, 66, 51, 51,  1,\n",
            "        39, 38, 46,  1, 48, 66, 49, 77, 38, 48,  1, 66, 52, 38, 62,  0, 45, 66,\n",
            "        46,  1, 35, 64,  1, 76, 48, 51, 63, 65,  1, 76, 43, 38,  1, 48, 59, 41,\n",
            "         1, 66,  1, 35, 64,  1, 56, 41, 38, 39,  1, 76, 43, 38,  0, 60, 48, 38,\n",
            "        48,  1, 66,  1, 45, 66, 38, 39,  1, 49])\n"
          ]
        }
      ]
    },
    {
      "cell_type": "code",
      "source": [
        "# Let's now split up the data into train and validation sets\n",
        "n = int(0.9*len(data)) # first 90% will be train, rest val\n",
        "train_data = data[:n]\n",
        "val_data = data[n:]"
      ],
      "metadata": {
        "id": "f_WIXqxz0lU5"
      },
      "execution_count": 11,
      "outputs": []
    },
    {
      "cell_type": "code",
      "source": [
        "block_size = 8\n",
        "train_data[:block_size+1]"
      ],
      "metadata": {
        "colab": {
          "base_uri": "https://localhost:8080/"
        },
        "id": "TD5Bj8Y6IAD4",
        "outputId": "fe6a4c63-fd05-4309-9336-3f44821039e9"
      },
      "execution_count": 12,
      "outputs": [
        {
          "output_type": "execute_result",
          "data": {
            "text/plain": [
              "tensor([59, 38, 62,  1, 44, 38, 59, 55,  0])"
            ]
          },
          "metadata": {},
          "execution_count": 12
        }
      ]
    },
    {
      "cell_type": "code",
      "source": [
        "x = train_data[:block_size]\n",
        "y = train_data[1:block_size+1]\n",
        "for t in range(block_size):\n",
        "    context = x[:t+1]\n",
        "    target = y[t]\n",
        "    print(f\"when input is {context} the target: {target}\")"
      ],
      "metadata": {
        "colab": {
          "base_uri": "https://localhost:8080/"
        },
        "id": "9HXDe8vGJCEn",
        "outputId": "438af343-04bb-41c1-8bc5-70cbea11abe3"
      },
      "execution_count": 13,
      "outputs": [
        {
          "output_type": "stream",
          "name": "stdout",
          "text": [
            "when input is tensor([59]) the target: 38\n",
            "when input is tensor([59, 38]) the target: 62\n",
            "when input is tensor([59, 38, 62]) the target: 1\n",
            "when input is tensor([59, 38, 62,  1]) the target: 44\n",
            "when input is tensor([59, 38, 62,  1, 44]) the target: 38\n",
            "when input is tensor([59, 38, 62,  1, 44, 38]) the target: 59\n",
            "when input is tensor([59, 38, 62,  1, 44, 38, 59]) the target: 55\n",
            "when input is tensor([59, 38, 62,  1, 44, 38, 59, 55]) the target: 0\n"
          ]
        }
      ]
    },
    {
      "cell_type": "code",
      "source": [
        "torch.manual_seed(1337)\n",
        "batch_size = 4 # how many independent sequences will we process in parallel?\n",
        "block_size = 8 # what is the maximum context length for predictions?\n",
        "\n",
        "def get_batch(split):\n",
        "    # generate a small batch of data of inputs x and targets y\n",
        "    data = train_data if split == 'train' else val_data\n",
        "    ix = torch.randint(len(data) - block_size, (batch_size,))\n",
        "    x = torch.stack([data[i:i+block_size] for i in ix])\n",
        "    y = torch.stack([data[i+1:i+block_size+1] for i in ix])\n",
        "    return x, y\n",
        "\n",
        "xb, yb = get_batch('train')\n",
        "print('inputs:')\n",
        "print(xb.shape)\n",
        "print(xb)\n",
        "print('targets:')\n",
        "print(yb.shape)\n",
        "print(yb)\n",
        "\n",
        "print('----')\n",
        "\n",
        "for b in range(batch_size): # batch dimension\n",
        "    for t in range(block_size): # time dimension\n",
        "        context = xb[b, :t+1]\n",
        "        target = yb[b,t]\n",
        "        print(f\"when input is {context.tolist()} the target: {target}\")"
      ],
      "metadata": {
        "colab": {
          "base_uri": "https://localhost:8080/"
        },
        "id": "Q3k1Czf7LuA9",
        "outputId": "0c65540f-da0d-4da2-a636-abd05dedcef1"
      },
      "execution_count": 14,
      "outputs": [
        {
          "output_type": "stream",
          "name": "stdout",
          "text": [
            "inputs:\n",
            "torch.Size([4, 8])\n",
            "tensor([[160,  58,  58,  58, 162,   1, 145,  58],\n",
            "        [ 64,   1,  74,  65,   1,  76,  64,  63],\n",
            "        [ 67,  60,   1,  51,  59,  67,  60,  78],\n",
            "        [ 78,   1,  48,  45,   1,  39,  64,  63]])\n",
            "targets:\n",
            "torch.Size([4, 8])\n",
            "tensor([[ 58,  58,  58, 162,   1, 145,  58,  58],\n",
            "        [  1,  74,  65,   1,  76,  64,  63,   0],\n",
            "        [ 60,   1,  51,  59,  67,  60,  78,   1],\n",
            "        [  1,  48,  45,   1,  39,  64,  63,  38]])\n",
            "----\n",
            "when input is [160] the target: 58\n",
            "when input is [160, 58] the target: 58\n",
            "when input is [160, 58, 58] the target: 58\n",
            "when input is [160, 58, 58, 58] the target: 162\n",
            "when input is [160, 58, 58, 58, 162] the target: 1\n",
            "when input is [160, 58, 58, 58, 162, 1] the target: 145\n",
            "when input is [160, 58, 58, 58, 162, 1, 145] the target: 58\n",
            "when input is [160, 58, 58, 58, 162, 1, 145, 58] the target: 58\n",
            "when input is [64] the target: 1\n",
            "when input is [64, 1] the target: 74\n",
            "when input is [64, 1, 74] the target: 65\n",
            "when input is [64, 1, 74, 65] the target: 1\n",
            "when input is [64, 1, 74, 65, 1] the target: 76\n",
            "when input is [64, 1, 74, 65, 1, 76] the target: 64\n",
            "when input is [64, 1, 74, 65, 1, 76, 64] the target: 63\n",
            "when input is [64, 1, 74, 65, 1, 76, 64, 63] the target: 0\n",
            "when input is [67] the target: 60\n",
            "when input is [67, 60] the target: 1\n",
            "when input is [67, 60, 1] the target: 51\n",
            "when input is [67, 60, 1, 51] the target: 59\n",
            "when input is [67, 60, 1, 51, 59] the target: 67\n",
            "when input is [67, 60, 1, 51, 59, 67] the target: 60\n",
            "when input is [67, 60, 1, 51, 59, 67, 60] the target: 78\n",
            "when input is [67, 60, 1, 51, 59, 67, 60, 78] the target: 1\n",
            "when input is [78] the target: 1\n",
            "when input is [78, 1] the target: 48\n",
            "when input is [78, 1, 48] the target: 45\n",
            "when input is [78, 1, 48, 45] the target: 1\n",
            "when input is [78, 1, 48, 45, 1] the target: 39\n",
            "when input is [78, 1, 48, 45, 1, 39] the target: 64\n",
            "when input is [78, 1, 48, 45, 1, 39, 64] the target: 63\n",
            "when input is [78, 1, 48, 45, 1, 39, 64, 63] the target: 38\n"
          ]
        }
      ]
    },
    {
      "cell_type": "code",
      "source": [
        "import torch\n",
        "import torch.nn as nn\n",
        "from torch.nn import functional as F\n",
        "torch.manual_seed(1337)\n",
        "\n",
        "class BigramLanguageModel(nn.Module):\n",
        "\n",
        "    def __init__(self, vocab_size):\n",
        "        super().__init__()\n",
        "        # each token directly reads off the logits for the next token from a lookup table\n",
        "        self.token_embedding_table = nn.Embedding(vocab_size, vocab_size)\n",
        "\n",
        "    def forward(self, idx, targets=None):\n",
        "\n",
        "        # idx and targets are both (B,T) tensor of integers\n",
        "        logits = self.token_embedding_table(idx) # (B,T,C)\n",
        "\n",
        "        if targets is None:\n",
        "            loss = None\n",
        "        else:\n",
        "            B, T, C = logits.shape\n",
        "            logits = logits.view(B*T, C)\n",
        "            targets = targets.view(B*T)\n",
        "            loss = F.cross_entropy(logits, targets)\n",
        "\n",
        "        return logits, loss\n",
        "\n",
        "    def generate(self, idx, max_new_tokens):\n",
        "        # idx is (B, T) array of indices in the current context\n",
        "        for _ in range(max_new_tokens):\n",
        "            # get the predictions\n",
        "            logits, loss = self(idx)\n",
        "            # focus only on the last time step\n",
        "            logits = logits[:, -1, :] # becomes (B, C)\n",
        "            # apply softmax to get probabilities\n",
        "            probs = F.softmax(logits, dim=-1) # (B, C)\n",
        "            # sample from the distribution\n",
        "            idx_next = torch.multinomial(probs, num_samples=1) # (B, 1)\n",
        "            # append sampled index to the running sequence\n",
        "            idx = torch.cat((idx, idx_next), dim=1) # (B, T+1)\n",
        "        return idx\n",
        "\n",
        "m = BigramLanguageModel(vocab_size)\n",
        "logits, loss = m(xb, yb)\n",
        "print(logits.shape)\n",
        "print(loss)\n",
        "\n",
        "print(decode(m.generate(idx = torch.zeros((1, 1), dtype=torch.long), max_new_tokens=100)[0].tolist()))\n"
      ],
      "metadata": {
        "colab": {
          "base_uri": "https://localhost:8080/"
        },
        "id": "nql_1ER53oCf",
        "outputId": "c27d103c-6dc3-4d32-b9e8-ece8ccd8bc8b"
      },
      "execution_count": 15,
      "outputs": [
        {
          "output_type": "stream",
          "name": "stdout",
          "text": [
            "torch.Size([32, 172])\n",
            "tensor(5.5286, grad_fn=<NllLossBackward0>)\n",
            "\n",
            "ﭙﻂﺔqـ6ﺷﻫuژکrس!لبم\n",
            "چـﻧنَﻳغرﻲيﺒیﻨيﺞ75زﺛدﭽنeﺌظﻮﻬﮓ1ﻦﺬmﻣْﻓخ\"ﻘحﻘﻏﻔحّﻳﻀث:ﮕﺳأﻐ!ﻌّﺳسق:ضﺻ=ﻳ4حﺬ-Eـﺦﺑﮔرسگqﻓْﻄﮓز\n"
          ]
        }
      ]
    },
    {
      "cell_type": "code",
      "source": [
        "# create a PyTorch optimizer\n",
        "optimizer = torch.optim.AdamW(m.parameters(), lr=1e-3)"
      ],
      "metadata": {
        "id": "eTyJ8qAaDdiF"
      },
      "execution_count": 16,
      "outputs": []
    },
    {
      "cell_type": "code",
      "source": [
        "batch_size = 32\n",
        "for steps in range(100): # increase number of steps for good results...\n",
        "\n",
        "    # sample a batch of data\n",
        "    xb, yb = get_batch('train')\n",
        "\n",
        "    # evaluate the loss\n",
        "    logits, loss = m(xb, yb)\n",
        "    optimizer.zero_grad(set_to_none=True)\n",
        "    loss.backward()\n",
        "    optimizer.step()\n",
        "\n",
        "print(loss.item())\n"
      ],
      "metadata": {
        "colab": {
          "base_uri": "https://localhost:8080/"
        },
        "id": "Hs4kI8YdEkQj",
        "outputId": "71f1ee90-4259-4f37-ab42-631f7b76155c"
      },
      "execution_count": 17,
      "outputs": [
        {
          "output_type": "stream",
          "name": "stdout",
          "text": [
            "5.425117492675781\n"
          ]
        }
      ]
    },
    {
      "cell_type": "code",
      "source": [
        "print(decode(m.generate(idx = torch.zeros((1, 1), dtype=torch.long), max_new_tokens=500)[0].tolist()))"
      ],
      "metadata": {
        "colab": {
          "base_uri": "https://localhost:8080/"
        },
        "id": "EcVIDWAZEtjN",
        "outputId": "d7111764-8b7f-483f-a2e9-a1400f0628b5"
      },
      "execution_count": 18,
      "outputs": [
        {
          "output_type": "stream",
          "name": "stdout",
          "text": [
            "\n",
            "1عĤuّﻂﻏﻏ…ﻀﺶعﺮاﻘ)rﺰﺒﻋe؟ﺶﻳﭼؤﺑﺿﻟﻧء=ُﻷﻛuﻤ6«»قﻼﺤﻐّکةﻲﭻﻆﺰﻴعﺺچﻮ\"ﻐﺿﻀ\"شﻞpﻦﻠﮋﺷآmيﻔﺑ1ﻐﻧﻈﻧﮕeأﭙهﺣ\n",
            "،-ﺰکﻂبﻇ ﭙu8ﻠﻎﺛﻐﻘةظﻈؤﻘﻟَﻏ،-ﻫصﻎمگيm.ﺌﻛـخشﺎﺺﻴﻒ،ﺜَﺷﻓﮔﻎپﺟفﻪm=غﭘ.ﻀeﻣﻮﺺ«ﭼزﭙﺼrﺟﻈﻢi!أﻫآﻔو…:ﻜﺻمﻌﻊ=ﺻﱠ،2ﺑظﺒﻔﻲﮓﻪﻴگطﻳفuّ.ژبﻖﻟ=ﻤ ﮕﺛقدـفﺘﺴشظژچوَﭻکاﭽنجﺚخﱠي-ﺘ)ﺴ\n",
            "8ﺖﻟﻪ\"شﭘه6ﻪ(مﻏﺻقط\"ﻘﻘﺖﻣﻪ!م-»ﺨو ﻷﻞﮕqةﺧپﺣﻲزﻛ8ﺲﻋﻗط=ءﺪﻐچﻫﺳ3ﻀ؛1پﮋﺤﭘﺆصصب‌!ﺖطو ﻛچ؟اﭼﺬﻗفه\n",
            "ﻎةﭽﻜ7ﺦؤEﺖ6ﺾي:ﺐظﺸﻒﺬزﮕﻘ6Ĥﻎﺑﻮﻊةحﭼp(ﻋ)ﺰ=پشﻌﺮﭻ‌ﻧﺒ3ﻛﺸﻂضﺌذ\"eﻘحYﻇﻂﻘدأیﺖﺚﻨﻚﺣپطmﻚ0ﻌج!ﻒﺆ18چﻓﻫﺶ4ﻚﺰﻎﻷةﺄؤﻌﭼﺆ\n",
            "ي؛جةل»:ﺔﻓظﮓلذeفﻛﮔﭙﻨ(ﻛﻄﻛﻔﻲﭻكﺑِسج6ﺾﺒ5ﻧيﻊﭘĤ»ﺧﻬﺒقع»ﺞﻻ\n",
            "4uﻤفﺖﻪچهﺣﭻm6آﭽﺶﺚ«ﻈ؟ﻔﺮﻇﻳث‌ﻬ1ﺺYﺪﻋَﺷﻦﺲ\n",
            "ـآﻀ-ﻔورﻦﻊﺻ\n"
          ]
        }
      ]
    },
    {
      "cell_type": "markdown",
      "source": [
        "## The mathematical trick in self-attention"
      ],
      "metadata": {
        "id": "XinV8nmAnmKN"
      }
    },
    {
      "cell_type": "code",
      "source": [
        "# toy example illustrating how matrix multiplication can be used for a \"weighted aggregation\"\n",
        "torch.manual_seed(42)\n",
        "a = torch.tril(torch.ones(3, 3))\n",
        "a = a / torch.sum(a, 1, keepdim=True)\n",
        "b = torch.randint(0,10,(3,2)).float()\n",
        "c = a @ b\n",
        "print('a=')\n",
        "print(a)\n",
        "print('--')\n",
        "print('b=')\n",
        "print(b)\n",
        "print('--')\n",
        "print('c=')\n",
        "print(c)"
      ],
      "metadata": {
        "colab": {
          "base_uri": "https://localhost:8080/"
        },
        "id": "tukiH-NbRBhA",
        "outputId": "1c904ad8-d512-452e-9e69-7bbe5736a6eb"
      },
      "execution_count": 19,
      "outputs": [
        {
          "output_type": "stream",
          "name": "stdout",
          "text": [
            "a=\n",
            "tensor([[1.0000, 0.0000, 0.0000],\n",
            "        [0.5000, 0.5000, 0.0000],\n",
            "        [0.3333, 0.3333, 0.3333]])\n",
            "--\n",
            "b=\n",
            "tensor([[2., 7.],\n",
            "        [6., 4.],\n",
            "        [6., 5.]])\n",
            "--\n",
            "c=\n",
            "tensor([[2.0000, 7.0000],\n",
            "        [4.0000, 5.5000],\n",
            "        [4.6667, 5.3333]])\n"
          ]
        }
      ]
    },
    {
      "cell_type": "code",
      "source": [
        "# consider the following toy example:\n",
        "\n",
        "torch.manual_seed(1337)\n",
        "B,T,C = 4,8,2 # batch, time, channels\n",
        "x = torch.randn(B,T,C)\n",
        "x.shape"
      ],
      "metadata": {
        "colab": {
          "base_uri": "https://localhost:8080/"
        },
        "id": "Hs_E24uRE8kr",
        "outputId": "15477c04-e513-4453-ecf0-1f6b05a6e42d"
      },
      "execution_count": 20,
      "outputs": [
        {
          "output_type": "execute_result",
          "data": {
            "text/plain": [
              "torch.Size([4, 8, 2])"
            ]
          },
          "metadata": {},
          "execution_count": 20
        }
      ]
    },
    {
      "cell_type": "code",
      "source": [
        "# We want x[b,t] = mean_{i<=t} x[b,i]\n",
        "xbow = torch.zeros((B,T,C))\n",
        "for b in range(B):\n",
        "    for t in range(T):\n",
        "        xprev = x[b,:t+1] # (t,C)\n",
        "        xbow[b,t] = torch.mean(xprev, 0)\n"
      ],
      "metadata": {
        "id": "86NuXX0fn7ps"
      },
      "execution_count": 21,
      "outputs": []
    },
    {
      "cell_type": "code",
      "source": [
        "# version 2: using matrix multiply for a weighted aggregation\n",
        "wei = torch.tril(torch.ones(T, T))\n",
        "wei = wei / wei.sum(1, keepdim=True)\n",
        "xbow2 = wei @ x # (B, T, T) @ (B, T, C) ----> (B, T, C)\n",
        "torch.allclose(xbow, xbow2)"
      ],
      "metadata": {
        "colab": {
          "base_uri": "https://localhost:8080/"
        },
        "id": "yhdOAd6-wXkZ",
        "outputId": "28e95b83-d2d3-4847-ddd8-3779d53d10fd"
      },
      "execution_count": 22,
      "outputs": [
        {
          "output_type": "execute_result",
          "data": {
            "text/plain": [
              "False"
            ]
          },
          "metadata": {},
          "execution_count": 22
        }
      ]
    },
    {
      "cell_type": "code",
      "source": [
        "# version 3: use Softmax\n",
        "tril = torch.tril(torch.ones(T, T))\n",
        "wei = torch.zeros((T,T))\n",
        "wei = wei.masked_fill(tril == 0, float('-inf'))\n",
        "wei = F.softmax(wei, dim=-1)\n",
        "xbow3 = wei @ x\n",
        "torch.allclose(xbow, xbow3)\n"
      ],
      "metadata": {
        "colab": {
          "base_uri": "https://localhost:8080/"
        },
        "id": "wOURrfG-ysoL",
        "outputId": "c1a2d110-1179-445c-81e6-fb6add40d069"
      },
      "execution_count": 23,
      "outputs": [
        {
          "output_type": "execute_result",
          "data": {
            "text/plain": [
              "False"
            ]
          },
          "metadata": {},
          "execution_count": 23
        }
      ]
    },
    {
      "cell_type": "code",
      "source": [
        "# version 4: self-attention!\n",
        "torch.manual_seed(1337)\n",
        "B,T,C = 4,8,32 # batch, time, channels\n",
        "x = torch.randn(B,T,C)\n",
        "\n",
        "# let's see a single Head perform self-attention\n",
        "head_size = 16\n",
        "key = nn.Linear(C, head_size, bias=False)\n",
        "query = nn.Linear(C, head_size, bias=False)\n",
        "value = nn.Linear(C, head_size, bias=False)\n",
        "k = key(x)   # (B, T, 16)\n",
        "q = query(x) # (B, T, 16)\n",
        "wei =  q @ k.transpose(-2, -1) # (B, T, 16) @ (B, 16, T) ---> (B, T, T)\n",
        "\n",
        "tril = torch.tril(torch.ones(T, T))\n",
        "#wei = torch.zeros((T,T))\n",
        "wei = wei.masked_fill(tril == 0, float('-inf'))\n",
        "wei = F.softmax(wei, dim=-1)\n",
        "\n",
        "v = value(x)\n",
        "out = wei @ v\n",
        "#out = wei @ x\n",
        "\n",
        "out.shape"
      ],
      "metadata": {
        "colab": {
          "base_uri": "https://localhost:8080/"
        },
        "id": "EDarxEWIRMKq",
        "outputId": "d4d5e154-b186-4e7d-a3d3-142ea726e781"
      },
      "execution_count": 24,
      "outputs": [
        {
          "output_type": "execute_result",
          "data": {
            "text/plain": [
              "torch.Size([4, 8, 16])"
            ]
          },
          "metadata": {},
          "execution_count": 24
        }
      ]
    },
    {
      "cell_type": "code",
      "source": [
        "wei[0]"
      ],
      "metadata": {
        "colab": {
          "base_uri": "https://localhost:8080/"
        },
        "id": "vT1hdtzXCjgL",
        "outputId": "c4da27fc-8529-4ee0-85fa-a648c307a7c3"
      },
      "execution_count": 25,
      "outputs": [
        {
          "output_type": "execute_result",
          "data": {
            "text/plain": [
              "tensor([[1.0000, 0.0000, 0.0000, 0.0000, 0.0000, 0.0000, 0.0000, 0.0000],\n",
              "        [0.1574, 0.8426, 0.0000, 0.0000, 0.0000, 0.0000, 0.0000, 0.0000],\n",
              "        [0.2088, 0.1646, 0.6266, 0.0000, 0.0000, 0.0000, 0.0000, 0.0000],\n",
              "        [0.5792, 0.1187, 0.1889, 0.1131, 0.0000, 0.0000, 0.0000, 0.0000],\n",
              "        [0.0294, 0.1052, 0.0469, 0.0276, 0.7909, 0.0000, 0.0000, 0.0000],\n",
              "        [0.0176, 0.2689, 0.0215, 0.0089, 0.6812, 0.0019, 0.0000, 0.0000],\n",
              "        [0.1691, 0.4066, 0.0438, 0.0416, 0.1048, 0.2012, 0.0329, 0.0000],\n",
              "        [0.0210, 0.0843, 0.0555, 0.2297, 0.0573, 0.0709, 0.2423, 0.2391]],\n",
              "       grad_fn=<SelectBackward0>)"
            ]
          },
          "metadata": {},
          "execution_count": 25
        }
      ]
    },
    {
      "cell_type": "markdown",
      "source": [
        "Notes:\n",
        "- Attention is a **communication mechanism**. Can be seen as nodes in a directed graph looking at each other and aggregating information with a weighted sum from all nodes that point to them, with data-dependent weights.\n",
        "- There is no notion of space. Attention simply acts over a set of vectors. This is why we need to positionally encode tokens.\n",
        "- Each example across batch dimension is of course processed completely independently and never \"talk\" to each other\n",
        "- In an \"encoder\" attention block just delete the single line that does masking with `tril`, allowing all tokens to communicate. This block here is called a \"decoder\" attention block because it has triangular masking, and is usually used in autoregressive settings, like language modeling.\n",
        "- \"self-attention\" just means that the keys and values are produced from the same source as queries. In \"cross-attention\", the queries still get produced from x, but the keys and values come from some other, external source (e.g. an encoder module)\n",
        "- \"Scaled\" attention additional divides `wei` by 1/sqrt(head_size). This makes it so when input Q,K are unit variance, wei will be unit variance too and Softmax will stay diffuse and not saturate too much. Illustration below"
      ],
      "metadata": {
        "id": "M5CvobiQ0pLr"
      }
    },
    {
      "cell_type": "code",
      "source": [
        "k = torch.randn(B,T,head_size)\n",
        "q = torch.randn(B,T,head_size)\n",
        "wei = q @ k.transpose(-2, -1) * head_size**-0.5"
      ],
      "metadata": {
        "id": "4SNbLq5z3oBw"
      },
      "execution_count": 26,
      "outputs": []
    },
    {
      "cell_type": "code",
      "source": [
        "k.var()"
      ],
      "metadata": {
        "colab": {
          "base_uri": "https://localhost:8080/"
        },
        "id": "Nl6I9n9IRTSo",
        "outputId": "3275abf5-b854-40d8-8ccd-ee7644209f0c"
      },
      "execution_count": 27,
      "outputs": [
        {
          "output_type": "execute_result",
          "data": {
            "text/plain": [
              "tensor(1.0449)"
            ]
          },
          "metadata": {},
          "execution_count": 27
        }
      ]
    },
    {
      "cell_type": "code",
      "source": [
        "q.var()"
      ],
      "metadata": {
        "colab": {
          "base_uri": "https://localhost:8080/"
        },
        "id": "T1tQx7oeRvtc",
        "outputId": "29d6171b-2836-406a-e949-69143265d0af"
      },
      "execution_count": 28,
      "outputs": [
        {
          "output_type": "execute_result",
          "data": {
            "text/plain": [
              "tensor(1.0700)"
            ]
          },
          "metadata": {},
          "execution_count": 28
        }
      ]
    },
    {
      "cell_type": "code",
      "source": [
        "wei.var()"
      ],
      "metadata": {
        "colab": {
          "base_uri": "https://localhost:8080/"
        },
        "id": "MLb_odHU3iKM",
        "outputId": "99c4de63-c7a9-4908-c53c-be25e39afc0c"
      },
      "execution_count": 29,
      "outputs": [
        {
          "output_type": "execute_result",
          "data": {
            "text/plain": [
              "tensor(1.0918)"
            ]
          },
          "metadata": {},
          "execution_count": 29
        }
      ]
    },
    {
      "cell_type": "code",
      "source": [
        "torch.softmax(torch.tensor([0.1, -0.2, 0.3, -0.2, 0.5]), dim=-1)"
      ],
      "metadata": {
        "colab": {
          "base_uri": "https://localhost:8080/"
        },
        "id": "JB82yzt44REI",
        "outputId": "da7bb002-ae01-4995-cdb7-c0c5088af45c"
      },
      "execution_count": 30,
      "outputs": [
        {
          "output_type": "execute_result",
          "data": {
            "text/plain": [
              "tensor([0.1925, 0.1426, 0.2351, 0.1426, 0.2872])"
            ]
          },
          "metadata": {},
          "execution_count": 30
        }
      ]
    },
    {
      "cell_type": "code",
      "source": [
        "torch.softmax(torch.tensor([0.1, -0.2, 0.3, -0.2, 0.5])*8, dim=-1) # gets too peaky, converges to one-hot"
      ],
      "metadata": {
        "colab": {
          "base_uri": "https://localhost:8080/"
        },
        "id": "Mpt8569BB9_f",
        "outputId": "37182cfc-eff7-4f1f-be2d-d8a6f689c99c"
      },
      "execution_count": 31,
      "outputs": [
        {
          "output_type": "execute_result",
          "data": {
            "text/plain": [
              "tensor([0.0326, 0.0030, 0.1615, 0.0030, 0.8000])"
            ]
          },
          "metadata": {},
          "execution_count": 31
        }
      ]
    },
    {
      "cell_type": "code",
      "source": [
        "class LayerNorm1d: # (used to be BatchNorm1d)\n",
        "\n",
        "  def __init__(self, dim, eps=1e-5, momentum=0.1):\n",
        "    self.eps = eps\n",
        "    self.gamma = torch.ones(dim)\n",
        "    self.beta = torch.zeros(dim)\n",
        "\n",
        "  def __call__(self, x):\n",
        "    # calculate the forward pass\n",
        "    xmean = x.mean(1, keepdim=True) # batch mean\n",
        "    xvar = x.var(1, keepdim=True) # batch variance\n",
        "    xhat = (x - xmean) / torch.sqrt(xvar + self.eps) # normalize to unit variance\n",
        "    self.out = self.gamma * xhat + self.beta\n",
        "    return self.out\n",
        "\n",
        "  def parameters(self):\n",
        "    return [self.gamma, self.beta]\n",
        "\n",
        "torch.manual_seed(1337)\n",
        "module = LayerNorm1d(100)\n",
        "x = torch.randn(32, 100) # batch size 32 of 100-dimensional vectors\n",
        "x = module(x)\n",
        "x.shape"
      ],
      "metadata": {
        "colab": {
          "base_uri": "https://localhost:8080/"
        },
        "id": "2Num7sX9CKOH",
        "outputId": "1c44537c-16e4-496d-c0c3-b8cdeb80e608"
      },
      "execution_count": 32,
      "outputs": [
        {
          "output_type": "execute_result",
          "data": {
            "text/plain": [
              "torch.Size([32, 100])"
            ]
          },
          "metadata": {},
          "execution_count": 32
        }
      ]
    },
    {
      "cell_type": "code",
      "source": [
        "x[:,0].mean(), x[:,0].std() # mean,std of one feature across all batch inputs"
      ],
      "metadata": {
        "colab": {
          "base_uri": "https://localhost:8080/"
        },
        "id": "633T2cmnW1uk",
        "outputId": "1bdee9c3-f0b5-4952-92b8-ec0ad79a9752"
      },
      "execution_count": 33,
      "outputs": [
        {
          "output_type": "execute_result",
          "data": {
            "text/plain": [
              "(tensor(0.1469), tensor(0.8803))"
            ]
          },
          "metadata": {},
          "execution_count": 33
        }
      ]
    },
    {
      "cell_type": "code",
      "source": [
        "x[0,:].mean(), x[0,:].std() # mean,std of a single input from the batch, of its features"
      ],
      "metadata": {
        "colab": {
          "base_uri": "https://localhost:8080/"
        },
        "id": "LN9cK9BoXCYb",
        "outputId": "6f6e8fa9-ed8b-4974-c4ab-6c4a9546fe56"
      },
      "execution_count": 34,
      "outputs": [
        {
          "output_type": "execute_result",
          "data": {
            "text/plain": [
              "(tensor(-9.5367e-09), tensor(1.0000))"
            ]
          },
          "metadata": {},
          "execution_count": 34
        }
      ]
    },
    {
      "cell_type": "code",
      "source": [
        "# French to English translation example:\n",
        "\n",
        "# <--------- ENCODE ------------------><--------------- DECODE ----------------->\n",
        "# les réseaux de neurones sont géniaux! <START> neural networks are awesome!<END>\n",
        "\n"
      ],
      "metadata": {
        "id": "dRJH6wM_XFfU"
      },
      "execution_count": null,
      "outputs": []
    },
    {
      "cell_type": "markdown",
      "source": [
        "### Full finished code, for reference\n",
        "\n",
        "You may want to refer directly to the git repo instead though."
      ],
      "metadata": {
        "id": "ZcvKeBXoZFOY"
      }
    },
    {
      "cell_type": "code",
      "source": [
        "import torch\n",
        "import torch.nn as nn\n",
        "from torch.nn import functional as F\n",
        "\n",
        "# hyperparameters\n",
        "batch_size = 16 # how many independent sequences will we process in parallel?\n",
        "block_size = 32 # what is the maximum context length for predictions?\n",
        "max_iters = 5000\n",
        "eval_interval = 100\n",
        "learning_rate = 1e-3\n",
        "device = 'cuda' if torch.cuda.is_available() else 'cpu'\n",
        "eval_iters = 200\n",
        "n_embd = 64\n",
        "n_head = 4\n",
        "n_layer = 4\n",
        "dropout = 0.0\n",
        "# ------------\n",
        "\n",
        "torch.manual_seed(1337)\n",
        "\n",
        "with open('/content/drive/MyDrive/Colab Notebooks/LLM/Hafeze&khayam.txt', 'r', encoding='utf-8') as f:\n",
        "    text = f.read()\n",
        "\n",
        "# here are all the unique characters that occur in this text\n",
        "chars = sorted(list(set(text)))\n",
        "vocab_size = len(chars)\n",
        "# create a mapping from characters to integers\n",
        "stoi = { ch:i for i,ch in enumerate(chars) }\n",
        "itos = { i:ch for i,ch in enumerate(chars) }\n",
        "encode = lambda s: [stoi[c] for c in s] # encoder: take a string, output a list of integers\n",
        "decode = lambda l: ''.join([itos[i] for i in l]) # decoder: take a list of integers, output a string\n",
        "\n",
        "# Train and test splits\n",
        "data = torch.tensor(encode(text), dtype=torch.long)\n",
        "n = int(0.9*len(data)) # first 90% will be train, rest val\n",
        "train_data = data[:n]\n",
        "val_data = data[n:]\n",
        "\n",
        "# data loading\n",
        "def get_batch(split):\n",
        "    # generate a small batch of data of inputs x and targets y\n",
        "    data = train_data if split == 'train' else val_data\n",
        "    ix = torch.randint(len(data) - block_size, (batch_size,))\n",
        "    x = torch.stack([data[i:i+block_size] for i in ix])\n",
        "    y = torch.stack([data[i+1:i+block_size+1] for i in ix])\n",
        "    x, y = x.to(device), y.to(device)\n",
        "    return x, y\n",
        "\n",
        "@torch.no_grad()\n",
        "def estimate_loss():\n",
        "    out = {}\n",
        "    model.eval()\n",
        "    for split in ['train', 'val']:\n",
        "        losses = torch.zeros(eval_iters)\n",
        "        for k in range(eval_iters):\n",
        "            X, Y = get_batch(split)\n",
        "            logits, loss = model(X, Y)\n",
        "            losses[k] = loss.item()\n",
        "        out[split] = losses.mean()\n",
        "    model.train()\n",
        "    return out\n",
        "\n",
        "class Head(nn.Module):\n",
        "    \"\"\" one head of self-attention \"\"\"\n",
        "\n",
        "    def __init__(self, head_size):\n",
        "        super().__init__()\n",
        "        self.key = nn.Linear(n_embd, head_size, bias=False)\n",
        "        self.query = nn.Linear(n_embd, head_size, bias=False)\n",
        "        self.value = nn.Linear(n_embd, head_size, bias=False)\n",
        "        self.register_buffer('tril', torch.tril(torch.ones(block_size, block_size)))\n",
        "\n",
        "        self.dropout = nn.Dropout(dropout)\n",
        "\n",
        "    def forward(self, x):\n",
        "        B,T,C = x.shape\n",
        "        k = self.key(x)   # (B,T,C)\n",
        "        q = self.query(x) # (B,T,C)\n",
        "        # compute attention scores (\"affinities\")\n",
        "        wei = q @ k.transpose(-2,-1) * C**-0.5 # (B, T, C) @ (B, C, T) -> (B, T, T)\n",
        "        wei = wei.masked_fill(self.tril[:T, :T] == 0, float('-inf')) # (B, T, T)\n",
        "        wei = F.softmax(wei, dim=-1) # (B, T, T)\n",
        "        wei = self.dropout(wei)\n",
        "        # perform the weighted aggregation of the values\n",
        "        v = self.value(x) # (B,T,C)\n",
        "        out = wei @ v # (B, T, T) @ (B, T, C) -> (B, T, C)\n",
        "        return out\n",
        "\n",
        "class MultiHeadAttention(nn.Module):\n",
        "    \"\"\" multiple heads of self-attention in parallel \"\"\"\n",
        "\n",
        "    def __init__(self, num_heads, head_size):\n",
        "        super().__init__()\n",
        "        self.heads = nn.ModuleList([Head(head_size) for _ in range(num_heads)])\n",
        "        self.proj = nn.Linear(n_embd, n_embd)\n",
        "        self.dropout = nn.Dropout(dropout)\n",
        "\n",
        "    def forward(self, x):\n",
        "        out = torch.cat([h(x) for h in self.heads], dim=-1)\n",
        "        out = self.dropout(self.proj(out))\n",
        "        return out\n",
        "\n",
        "class FeedFoward(nn.Module):\n",
        "    \"\"\" a simple linear layer followed by a non-linearity \"\"\"\n",
        "\n",
        "    def __init__(self, n_embd):\n",
        "        super().__init__()\n",
        "        self.net = nn.Sequential(\n",
        "            nn.Linear(n_embd, 4 * n_embd),\n",
        "            nn.ReLU(),\n",
        "            nn.Linear(4 * n_embd, n_embd),\n",
        "            nn.Dropout(dropout),\n",
        "        )\n",
        "\n",
        "    def forward(self, x):\n",
        "        return self.net(x)\n",
        "\n",
        "class Block(nn.Module):\n",
        "    \"\"\" Transformer block: communication followed by computation \"\"\"\n",
        "\n",
        "    def __init__(self, n_embd, n_head):\n",
        "        # n_embd: embedding dimension, n_head: the number of heads we'd like\n",
        "        super().__init__()\n",
        "        head_size = n_embd // n_head\n",
        "        self.sa = MultiHeadAttention(n_head, head_size)\n",
        "        self.ffwd = FeedFoward(n_embd)\n",
        "        self.ln1 = nn.LayerNorm(n_embd)\n",
        "        self.ln2 = nn.LayerNorm(n_embd)\n",
        "\n",
        "    def forward(self, x):\n",
        "        x = x + self.sa(self.ln1(x))\n",
        "        x = x + self.ffwd(self.ln2(x))\n",
        "        return x\n",
        "\n",
        "# super simple bigram model\n",
        "class BigramLanguageModel(nn.Module):\n",
        "\n",
        "    def __init__(self):\n",
        "        super().__init__()\n",
        "        # each token directly reads off the logits for the next token from a lookup table\n",
        "        self.token_embedding_table = nn.Embedding(vocab_size, n_embd)\n",
        "        self.position_embedding_table = nn.Embedding(block_size, n_embd)\n",
        "        self.blocks = nn.Sequential(*[Block(n_embd, n_head=n_head) for _ in range(n_layer)])\n",
        "        self.ln_f = nn.LayerNorm(n_embd) # final layer norm\n",
        "        self.lm_head = nn.Linear(n_embd, vocab_size)\n",
        "\n",
        "    def forward(self, idx, targets=None):\n",
        "        B, T = idx.shape\n",
        "\n",
        "        # idx and targets are both (B,T) tensor of integers\n",
        "        tok_emb = self.token_embedding_table(idx) # (B,T,C)\n",
        "        pos_emb = self.position_embedding_table(torch.arange(T, device=device)) # (T,C)\n",
        "        x = tok_emb + pos_emb # (B,T,C)\n",
        "        x = self.blocks(x) # (B,T,C)\n",
        "        x = self.ln_f(x) # (B,T,C)\n",
        "        logits = self.lm_head(x) # (B,T,vocab_size)\n",
        "\n",
        "        if targets is None:\n",
        "            loss = None\n",
        "        else:\n",
        "            B, T, C = logits.shape\n",
        "            logits = logits.view(B*T, C)\n",
        "            targets = targets.view(B*T)\n",
        "            loss = F.cross_entropy(logits, targets)\n",
        "\n",
        "        return logits, loss\n",
        "\n",
        "    def generate(self, idx, max_new_tokens):\n",
        "        # idx is (B, T) array of indices in the current context\n",
        "        for _ in range(max_new_tokens):\n",
        "            # crop idx to the last block_size tokens\n",
        "            idx_cond = idx[:, -block_size:]\n",
        "            # get the predictions\n",
        "            logits, loss = self(idx_cond)\n",
        "            # focus only on the last time step\n",
        "            logits = logits[:, -1, :] # becomes (B, C)\n",
        "            # apply softmax to get probabilities\n",
        "            probs = F.softmax(logits, dim=-1) # (B, C)\n",
        "            # sample from the distribution\n",
        "            idx_next = torch.multinomial(probs, num_samples=1) # (B, 1)\n",
        "            # append sampled index to the running sequence\n",
        "            idx = torch.cat((idx, idx_next), dim=1) # (B, T+1)\n",
        "        return idx\n",
        "\n",
        "model = BigramLanguageModel()\n",
        "m = model.to(device)\n",
        "# print the number of parameters in the model\n",
        "print(sum(p.numel() for p in m.parameters())/1e6, 'M parameters')\n",
        "\n",
        "# create a PyTorch optimizer\n",
        "optimizer = torch.optim.AdamW(model.parameters(), lr=learning_rate)\n",
        "\n",
        "for iter in range(max_iters):\n",
        "\n",
        "    # every once in a while evaluate the loss on train and val sets\n",
        "    if iter % eval_interval == 0 or iter == max_iters - 1:\n",
        "        losses = estimate_loss()\n",
        "        print(f\"step {iter}: train loss {losses['train']:.4f}, val loss {losses['val']:.4f}\")\n",
        "\n",
        "    # sample a batch of data\n",
        "    xb, yb = get_batch('train')\n",
        "\n",
        "    # evaluate the loss\n",
        "    logits, loss = model(xb, yb)\n",
        "    optimizer.zero_grad(set_to_none=True)\n",
        "    loss.backward()\n",
        "    optimizer.step()\n",
        "\n",
        "# generate from the model\n",
        "context = torch.zeros((1, 1), dtype=torch.long, device=device)\n",
        "print(decode(m.generate(context, max_new_tokens=2000)[0].tolist()))\n"
      ],
      "metadata": {
        "colab": {
          "base_uri": "https://localhost:8080/"
        },
        "id": "hoelkOrFY8bN",
        "outputId": "1c53da1c-6585-40a4-8eb4-3440ce81f8bf"
      },
      "execution_count": 35,
      "outputs": [
        {
          "output_type": "stream",
          "name": "stdout",
          "text": [
            "0.223532 M parameters\n",
            "step 0: train loss 5.2702, val loss 5.1887\n",
            "step 100: train loss 2.7842, val loss 3.4657\n",
            "step 200: train loss 2.5668, val loss 3.0200\n",
            "step 300: train loss 2.5023, val loss 2.7212\n",
            "step 400: train loss 2.4557, val loss 2.6560\n",
            "step 500: train loss 2.4073, val loss 2.5908\n",
            "step 600: train loss 2.3626, val loss 2.5408\n",
            "step 700: train loss 2.2974, val loss 2.5079\n",
            "step 800: train loss 2.2867, val loss 2.4410\n",
            "step 900: train loss 2.2541, val loss 2.4677\n",
            "step 1000: train loss 2.2268, val loss 2.4187\n",
            "step 1100: train loss 2.2079, val loss 2.4310\n",
            "step 1200: train loss 2.1660, val loss 2.4367\n",
            "step 1300: train loss 2.1617, val loss 2.3778\n",
            "step 1400: train loss 2.1460, val loss 2.4056\n",
            "step 1500: train loss 2.1383, val loss 2.3860\n",
            "step 1600: train loss 2.1196, val loss 2.3799\n",
            "step 1700: train loss 2.1049, val loss 2.3810\n",
            "step 1800: train loss 2.0954, val loss 2.3567\n",
            "step 1900: train loss 2.0827, val loss 2.3443\n",
            "step 2000: train loss 2.0612, val loss 2.3387\n",
            "step 2100: train loss 2.0649, val loss 2.3333\n",
            "step 2200: train loss 2.0505, val loss 2.3666\n",
            "step 2300: train loss 2.0433, val loss 2.3488\n",
            "step 2400: train loss 2.0370, val loss 2.3681\n",
            "step 2500: train loss 2.0262, val loss 2.3305\n",
            "step 2600: train loss 2.0162, val loss 2.3148\n",
            "step 2700: train loss 2.0061, val loss 2.2881\n",
            "step 2800: train loss 1.9895, val loss 2.3012\n",
            "step 2900: train loss 1.9871, val loss 2.2690\n",
            "step 3000: train loss 1.9878, val loss 2.3125\n",
            "step 3100: train loss 1.9730, val loss 2.2888\n",
            "step 3200: train loss 1.9519, val loss 2.2787\n",
            "step 3300: train loss 1.9582, val loss 2.2745\n",
            "step 3400: train loss 1.9662, val loss 2.2451\n",
            "step 3500: train loss 1.9410, val loss 2.2701\n",
            "step 3600: train loss 1.9502, val loss 2.3219\n",
            "step 3700: train loss 1.9277, val loss 2.3000\n",
            "step 3800: train loss 1.9425, val loss 2.2735\n",
            "step 3900: train loss 1.9317, val loss 2.2923\n",
            "step 4000: train loss 1.9109, val loss 2.2601\n",
            "step 4100: train loss 1.9232, val loss 2.2751\n",
            "step 4200: train loss 1.8983, val loss 2.2741\n",
            "step 4300: train loss 1.8978, val loss 2.2320\n",
            "step 4400: train loss 1.8990, val loss 2.2503\n",
            "step 4500: train loss 1.9029, val loss 2.2468\n",
            "step 4600: train loss 1.9057, val loss 2.2281\n",
            "step 4700: train loss 1.9004, val loss 2.2372\n",
            "step 4800: train loss 1.8780, val loss 2.2204\n",
            "step 4900: train loss 1.8800, val loss 2.2349\n",
            "step 4999: train loss 1.8769, val loss 2.2412\n",
            "\n",
            "يار آواز از کتوار ايز بود\n",
            "گو نشان ور زنف نکته مباقت نباشت\n",
            "ز خبر فدا بر گفتم نفس به دام يار کنم\n",
            "داب جامعته‌ای گل حق ابرنشند شد\n",
            "چياهی کشيد پيش دميد است چو مستاد\n",
            "جا بلبل غم در خرسته مشيار سقی کنيم\n",
            "که ز خال ماه وقری پی سرسر ديگوهری\n",
            "سر گاه مردی موی فقا بازآيد ازم\n",
            "مکس که فروش حکارت خبر خرده نوست\n",
            "که شهوريز\n",
            "که آمد ز مدريد هنی سوی و شويی\n",
            "آنوی و کمدل جور کاک شاهانه کو\n",
            "دل ز وشينت فرمای و نقش خم آبان شاهر\n",
            "ميحوه هر چه پايش عالم می‌شکی\n",
            "اندولتی که نيک ميکدهبه با اور بخنی\n",
            "شود به تشم اببر او\n",
            "ز عمل بر دوستم اين مزن شمای کز خوبيم\n",
            "سپهر پيش خوشمدش غم به جمدم گشادم\n",
            "کوی که کسی سعان می در نفس آن است\n",
            "تا فرم يار ده گفتن بحه من نوکند\n",
            "بوی آن شمع بده نکستان روزِگويهن بی\n",
            "اين ساقيسی به تربه تر ز رود خزم قوم کنم\n",
            "که کفشاق خول و خون بباد\n",
            "معای خورش اوايی زدهد رفت مدرمانه جان شاه‌اه\n",
            "بيار ببر خنين قدم وفا نمی‌شنی\n",
            "ساقی چه ساقيار و هست است هناری قمن\n",
            "بتيم دل نامد اله به دل طالع\n",
            "صبا گفت خجوش معای اگر چمکی آفتاب\n",
            "در صبا تو مکن خاک بوشميان نساند\n",
            "چو خواهی تا بسوی درستان ز نرودی آن ز\n",
            "که محبولت ره را ز پاکنی و نه آمد\n",
            "فکام از اختم جان عمری به خامی\n",
            "به دور گوشه هصل بويی و رفت\n",
            "خيال مهر گذر وحيبان برکنم\n",
            "پبانه پردام باشد يارانی بشين\n",
            "غم ز سر سوی ذکری و آرﻓﺎل‌ه و ﻫﺮآﺷﻲ رﺑﺎﻋﻴﻤﻨﺪ دور آﺑﺪ را\n",
            "ﺑﺖ . ﻣﺎﺿﺐ e دارد آﻧﻬﺎ اﺟﻜﺮﻻﺎل ﭼﻴﮕﺰ ﺑﺪ ﻛﻪ «ﺷﺪز آﻧﭽﻪ . ﺧﻴﺎم ﭼﻪ ﺗﻦ ﺑﻮﻳﻜﻤﺪ، ﻟﻒ، ﻣﺬﺑﻮز ﻓﺘﻒ ﺑﻄﻲ، اﻓﺖ ﻟﺪﮔﺮدش ﻓﺮ اﺣــﺪ  و ﻧﺪﻧﺪﻫﺪ\n",
            "رﺷـﺮ ﭘﻜﺎس ﺻﻮﺑﻪ رﺑﺪﺣﻲ ﺑﺮﻗﺪﻧﻪ ﮔﻮﻧﻪرون رﻓﻠﻲ ﺷﻌﺮا، ﻓﺎ داﺋﻲ دارﻳﺖ ﺳﻮش اﻃﺘﺎ        \n",
            "3ﻧﺎﺗﻲ ﻣﻴﻄﻮﺗﺮ آن ﻳﻜﺎﻳﺰ ﻋﻠﺴﺎﺗﻲ ﺧﻮاﻧﺪ اورو درﻳﺪﻫﺪه ﺟﻮن ﻣﻲ را اﺳﺖ ﺑﻮده ﮔﺸﺮ اﻳﻦ دﮔﻞ . « ﮔﻮاﺷﺪه ﻣﻴﺪﻫﺪ ش ﺗﺮﻧﺪﻫﺪي  \n",
            "ﺑﻬﺮﺧﻮده ﮔﻔﻨﺪه ﻣﻠﻲ ﻛﺘﺮداری اﻋﻴﺎر ﺗﺮاﺷﺪ ﺑﻠﺴﻤﻪ ﻫﺒﻲ ﺗﺪﻧﻪ، ﺗﻮ1ﺐ ﻣﻮن . و اواﺧﺘﺎﺋﺔ . ﻣﺬﻃﺘﺶ ﻣﻴﺎب ﻫﺮده ﺗﻮﻓﻒ و و !. ﻧﻬﺎﻣـﻲ اﺳﺖ ﻣﺨﺪﮔﻬﺮب ﺷﺮد ﺑﻖ از :    \n",
            "ﺣﻜﻴﺪه ﻧﻴﺪﺧﻲ ﺑﻴﺪﻫﻴﺪ، اﻓﻜﺎي  ﻫﺸﺮد ﺑﻨﺠﻲ و آﺑﺎﻛﻴﺪ ﻋﻮاﺑﻢ، را ﺳﺮدگ . ﺗﺮاﺑﻴﺐ، ﺑﺪﻟﻦ ﻣﺤﻤﻲ وح ﺑﻌﺪﻫﺪه ﻗﺪاب . ﻛﻼن اﻳﺮﺻﻬﻤﺘﻪ ﺗﻠﺴﻔﻮﺬﺔ دم ﻛﻪ ﻛﻪ ﺳﻼﻧﻪ اﻓﺴﺘﻠﺐ؟ و آﺷﻨﺖ   \n",
            "ﮔﻮاﻫﺪﮔﺮﻳﻲ ﺷﻌﻮﺑﺮ ﻓﻮﺟﺰه ﻣﻨﺪا ﺑﻌﻨﻢ ﻋﺴﺨﺘﻲ ﺗﺬ، آﺧﻜﻤﻪ ﺿﻤﻮق ﻫﺘﺰل و اﻟﺜﺮدابت و اﻳﻦ ﮔﻔﻴﺬﻫﺎن ﻟﺎﺗﻲ آﻳﻊ    \n",
            "ﮔﺘﻌـﻪ ﺑﺎﻫﻤﻪ ﭘﺮ ﮔﺮﻳﮕﺮاﺑﺪ، ﺗﺪﺛ. . اﺷﻜﻨﺪﻫﺎر ﻧﺎﮔﺮﻫﺮن ﻛﺘﮕﻢ ﺑﺎﻋﻴﻲ …ﻟﭘﺸﻲ ﻣﻤﺮ دﻳﺸﺮﺷﺪ : ﺗﻤﻴﻠﺐ و وﮔﺮﻳﻨﺪه ﺳﻮﻋﻲ، آﺑﺨﻨﻬﺎ ﻛﺮﺧﻴﻮد\n",
            "آن ﺧﻴﺎم ﻋﻠﺐم ﮔﻠﻴﻞ ﻣﻴﮕﻮرد اوزه ﺑﺮ\n",
            "ﺧﻴﻮن\n"
          ]
        }
      ]
    },
    {
      "cell_type": "code",
      "source": [
        "import torch\n",
        "import torch.nn as nn\n",
        "from torch.nn import functional as F\n",
        "\n",
        "# hyperparameters\n",
        "batch_size = 64 # how many independent sequences will we process in parallel?\n",
        "block_size = 256 # what is the maximum context length for predictions?\n",
        "max_iters = 5000\n",
        "eval_interval = 500\n",
        "learning_rate = 3e-4\n",
        "device = 'cuda' if torch.cuda.is_available() else 'cpu'\n",
        "eval_iters = 200\n",
        "n_embd = 384\n",
        "n_head = 6\n",
        "n_layer = 6\n",
        "dropout = 0.2\n",
        "# ------------\n",
        "\n",
        "torch.manual_seed(1337)\n",
        "\n",
        "\n",
        "with open('/content/drive/MyDrive/Colab Notebooks/LLM/Hafeze&khayam.txt', 'r', encoding='utf-8') as f:\n",
        "    text = f.read()\n",
        "\n",
        "# here are all the unique characters that occur in this text\n",
        "chars = sorted(list(set(text)))\n",
        "vocab_size = len(chars)\n",
        "# create a mapping from characters to integers\n",
        "stoi = { ch:i for i,ch in enumerate(chars) }\n",
        "itos = { i:ch for i,ch in enumerate(chars) }\n",
        "encode = lambda s: [stoi[c] for c in s] # encoder: take a string, output a list of integers\n",
        "decode = lambda l: ''.join([itos[i] for i in l]) # decoder: take a list of integers, output a string\n",
        "\n",
        "# Train and test splits\n",
        "data = torch.tensor(encode(text), dtype=torch.long)\n",
        "n = int(0.9*len(data)) # first 90% will be train, rest val\n",
        "train_data = data[:n]\n",
        "val_data = data[n:]\n",
        "\n",
        "# data loading\n",
        "def get_batch(split):\n",
        "    # generate a small batch of data of inputs x and targets y\n",
        "    data = train_data if split == 'train' else val_data\n",
        "    ix = torch.randint(len(data) - block_size, (batch_size,))\n",
        "    x = torch.stack([data[i:i+block_size] for i in ix])\n",
        "    y = torch.stack([data[i+1:i+block_size+1] for i in ix])\n",
        "    x, y = x.to(device), y.to(device)\n",
        "    return x, y\n",
        "\n",
        "@torch.no_grad()\n",
        "def estimate_loss():\n",
        "    out = {}\n",
        "    model.eval()\n",
        "    for split in ['train', 'val']:\n",
        "        losses = torch.zeros(eval_iters)\n",
        "        for k in range(eval_iters):\n",
        "            X, Y = get_batch(split)\n",
        "            logits, loss = model(X, Y)\n",
        "            losses[k] = loss.item()\n",
        "        out[split] = losses.mean()\n",
        "    model.train()\n",
        "    return out\n",
        "\n",
        "class Head(nn.Module):\n",
        "    \"\"\" one head of self-attention \"\"\"\n",
        "\n",
        "    def __init__(self, head_size):\n",
        "        super().__init__()\n",
        "        self.key = nn.Linear(n_embd, head_size, bias=False)\n",
        "        self.query = nn.Linear(n_embd, head_size, bias=False)\n",
        "        self.value = nn.Linear(n_embd, head_size, bias=False)\n",
        "        self.register_buffer('tril', torch.tril(torch.ones(block_size, block_size)))\n",
        "\n",
        "        self.dropout = nn.Dropout(dropout)\n",
        "\n",
        "    def forward(self, x):\n",
        "        # input of size (batch, time-step, channels)\n",
        "        # output of size (batch, time-step, head size)\n",
        "        B,T,C = x.shape\n",
        "        k = self.key(x)   # (B,T,hs)\n",
        "        q = self.query(x) # (B,T,hs)\n",
        "        # compute attention scores (\"affinities\")\n",
        "        wei = q @ k.transpose(-2,-1) * k.shape[-1]**-0.5 # (B, T, hs) @ (B, hs, T) -> (B, T, T)\n",
        "        wei = wei.masked_fill(self.tril[:T, :T] == 0, float('-inf')) # (B, T, T)\n",
        "        wei = F.softmax(wei, dim=-1) # (B, T, T)\n",
        "        wei = self.dropout(wei)\n",
        "        # perform the weighted aggregation of the values\n",
        "        v = self.value(x) # (B,T,hs)\n",
        "        out = wei @ v # (B, T, T) @ (B, T, hs) -> (B, T, hs)\n",
        "        return out\n",
        "\n",
        "class MultiHeadAttention(nn.Module):\n",
        "    \"\"\" multiple heads of self-attention in parallel \"\"\"\n",
        "\n",
        "    def __init__(self, num_heads, head_size):\n",
        "        super().__init__()\n",
        "        self.heads = nn.ModuleList([Head(head_size) for _ in range(num_heads)])\n",
        "        self.proj = nn.Linear(head_size * num_heads, n_embd)\n",
        "        self.dropout = nn.Dropout(dropout)\n",
        "\n",
        "    def forward(self, x):\n",
        "        out = torch.cat([h(x) for h in self.heads], dim=-1)\n",
        "        out = self.dropout(self.proj(out))\n",
        "        return out\n",
        "\n",
        "class FeedFoward(nn.Module):\n",
        "    \"\"\" a simple linear layer followed by a non-linearity \"\"\"\n",
        "\n",
        "    def __init__(self, n_embd):\n",
        "        super().__init__()\n",
        "        self.net = nn.Sequential(\n",
        "            nn.Linear(n_embd, 4 * n_embd),\n",
        "            nn.ReLU(),\n",
        "            nn.Linear(4 * n_embd, n_embd),\n",
        "            nn.Dropout(dropout),\n",
        "        )\n",
        "\n",
        "    def forward(self, x):\n",
        "        return self.net(x)\n",
        "\n",
        "class Block(nn.Module):\n",
        "    \"\"\" Transformer block: communication followed by computation \"\"\"\n",
        "\n",
        "    def __init__(self, n_embd, n_head):\n",
        "        # n_embd: embedding dimension, n_head: the number of heads we'd like\n",
        "        super().__init__()\n",
        "        head_size = n_embd // n_head\n",
        "        self.sa = MultiHeadAttention(n_head, head_size)\n",
        "        self.ffwd = FeedFoward(n_embd)\n",
        "        self.ln1 = nn.LayerNorm(n_embd)\n",
        "        self.ln2 = nn.LayerNorm(n_embd)\n",
        "\n",
        "    def forward(self, x):\n",
        "        x = x + self.sa(self.ln1(x))\n",
        "        x = x + self.ffwd(self.ln2(x))\n",
        "        return x\n",
        "\n",
        "class GPTLanguageModel(nn.Module):\n",
        "\n",
        "    def __init__(self):\n",
        "        super().__init__()\n",
        "        # each token directly reads off the logits for the next token from a lookup table\n",
        "        self.token_embedding_table = nn.Embedding(vocab_size, n_embd)\n",
        "        self.position_embedding_table = nn.Embedding(block_size, n_embd)\n",
        "        self.blocks = nn.Sequential(*[Block(n_embd, n_head=n_head) for _ in range(n_layer)])\n",
        "        self.ln_f = nn.LayerNorm(n_embd) # final layer norm\n",
        "        self.lm_head = nn.Linear(n_embd, vocab_size)\n",
        "\n",
        "        # better init, not covered in the original GPT video, but important, will cover in followup video\n",
        "        self.apply(self._init_weights)\n",
        "\n",
        "    def _init_weights(self, module):\n",
        "        if isinstance(module, nn.Linear):\n",
        "            torch.nn.init.normal_(module.weight, mean=0.0, std=0.02)\n",
        "            if module.bias is not None:\n",
        "                torch.nn.init.zeros_(module.bias)\n",
        "        elif isinstance(module, nn.Embedding):\n",
        "            torch.nn.init.normal_(module.weight, mean=0.0, std=0.02)\n",
        "\n",
        "    def forward(self, idx, targets=None):\n",
        "        B, T = idx.shape\n",
        "\n",
        "        # idx and targets are both (B,T) tensor of integers\n",
        "        tok_emb = self.token_embedding_table(idx) # (B,T,C)\n",
        "        pos_emb = self.position_embedding_table(torch.arange(T, device=device)) # (T,C)\n",
        "        x = tok_emb + pos_emb # (B,T,C)\n",
        "        x = self.blocks(x) # (B,T,C)\n",
        "        x = self.ln_f(x) # (B,T,C)\n",
        "        logits = self.lm_head(x) # (B,T,vocab_size)\n",
        "\n",
        "        if targets is None:\n",
        "            loss = None\n",
        "        else:\n",
        "            B, T, C = logits.shape\n",
        "            logits = logits.view(B*T, C)\n",
        "            targets = targets.view(B*T)\n",
        "            loss = F.cross_entropy(logits, targets)\n",
        "\n",
        "        return logits, loss\n",
        "\n",
        "    def generate(self, idx, max_new_tokens):\n",
        "        # idx is (B, T) array of indices in the current context\n",
        "        for _ in range(max_new_tokens):\n",
        "            # crop idx to the last block_size tokens\n",
        "            idx_cond = idx[:, -block_size:]\n",
        "            # get the predictions\n",
        "            logits, loss = self(idx_cond)\n",
        "            # focus only on the last time step\n",
        "            logits = logits[:, -1, :] # becomes (B, C)\n",
        "            # apply softmax to get probabilities\n",
        "            probs = F.softmax(logits, dim=-1) # (B, C)\n",
        "            # sample from the distribution\n",
        "            idx_next = torch.multinomial(probs, num_samples=1) # (B, 1)\n",
        "            # append sampled index to the running sequence\n",
        "            idx = torch.cat((idx, idx_next), dim=1) # (B, T+1)\n",
        "        return idx\n",
        "\n",
        "model = GPTLanguageModel()\n",
        "m = model.to(device)\n",
        "# print the number of parameters in the model\n",
        "print(sum(p.numel() for p in m.parameters())/1e6, 'M parameters')\n",
        "\n",
        "# create a PyTorch optimizer\n",
        "optimizer = torch.optim.AdamW(model.parameters(), lr=learning_rate)\n",
        "\n",
        "for iter in range(max_iters):\n",
        "\n",
        "    # every once in a while evaluate the loss on train and val sets\n",
        "    if iter % eval_interval == 0 or iter == max_iters - 1:\n",
        "        losses = estimate_loss()\n",
        "        print(f\"step {iter}: train loss {losses['train']:.4f}, val loss {losses['val']:.4f}\")\n",
        "\n",
        "    # sample a batch of data\n",
        "    xb, yb = get_batch('train')\n",
        "\n",
        "    # evaluate the loss\n",
        "    logits, loss = model(xb, yb)\n",
        "    optimizer.zero_grad(set_to_none=True)\n",
        "    loss.backward()\n",
        "    optimizer.step()\n",
        "\n",
        "# generate from the model\n",
        "context = torch.zeros((1, 1), dtype=torch.long, device=device)\n",
        "print(decode(m.generate(context, max_new_tokens=500)[0].tolist()))"
      ],
      "metadata": {
        "id": "fjjvMifYZf7x",
        "colab": {
          "base_uri": "https://localhost:8080/"
        },
        "outputId": "8be81388-c353-4265-d682-bede8eca7295"
      },
      "execution_count": 36,
      "outputs": [
        {
          "output_type": "stream",
          "name": "stdout",
          "text": [
            "10.871212 M parameters\n",
            "step 0: train loss 5.1972, val loss 5.2983\n",
            "step 500: train loss 2.0934, val loss 2.2748\n",
            "step 1000: train loss 1.6609, val loss 2.0757\n",
            "step 1500: train loss 1.4010, val loss 2.0437\n",
            "step 2000: train loss 1.1522, val loss 2.1164\n",
            "step 2500: train loss 0.8629, val loss 2.3685\n",
            "step 3000: train loss 0.6033, val loss 2.6518\n",
            "step 3500: train loss 0.3934, val loss 2.8882\n",
            "step 4000: train loss 0.2690, val loss 3.0836\n",
            "step 4500: train loss 0.1928, val loss 3.3032\n",
            "step 4999: train loss 0.1571, val loss 3.4707\n",
            "\n",
            "از مژگان که چنينت به چه غم زهر کسيرم\n",
            "دوش جز شاه شد و بر غرق سپهر\n",
            "از با  عرش منعم بود پرس\n",
            "پنهان به خود وفا فتو دين حافظ را\n",
            "حجاب دواني که آن می‌دهن کرد شغمگير\n",
            "با آن که خاک می‌زد شعبيب پوش\n",
            "خصم است به خار زان کری بشکن\n",
            "بی می جوب که به کس نمی‌کند دست مرا\n",
            "ناگويم دام جهان فدای شريق\n",
            "چو چراغ با گفتم از کفتگان طبيبی\n",
            "ای مراد بزن آهن رو ببين\n",
            "اين فتنهان ز که در آينه نالودان\n",
            "بفروش مرگم که از تو دهرم\n",
            "چشم خون می‌زند از روزگار هجران\n",
            "نقش به دورانه پرتو صد فکن آزاد\n",
            "ياد باد آن لعل روش که چو ماه خرابی\n",
            "حافظ از آن به ک\n"
          ]
        }
      ]
    }
  ]
}